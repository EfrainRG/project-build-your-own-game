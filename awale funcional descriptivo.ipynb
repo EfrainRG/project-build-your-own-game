{
 "cells": [
  {
   "cell_type": "code",
   "execution_count": 20,
   "metadata": {},
   "outputs": [],
   "source": [
    "semilleros = 12\n",
    "semillas = 4\n",
    "base=[semillas] * semilleros\n",
    "#-----------------------------Bases de tablero--------------------------------\n",
    "def creaciontab(tab):\n",
    "    print('------------------------------------------------------------------')\n",
    "    creaciontab_cad = ''\n",
    "    mitadsemilleros = 6\n",
    "    # Board top\n",
    "    creaciontab_cad += semillerosj1(tab, mitadsemilleros)\n",
    "    creaciontab_cad += '\\n'\n",
    "    # Board bottom\n",
    "    creaciontab_cad += semillerosj2(tab, mitadsemilleros)\n",
    "    return creaciontab_cad\n",
    "\n",
    "\n",
    "def semillerosj1(tab, mitadsemilleros):\n",
    "    mitadsemilleros = 6\n",
    "    cadsemillero = ''\n",
    "    for i in range(0, mitadsemilleros): # Seleccionamos los semilleros superiores\n",
    "        cadsemillero += '\\t' + str(i) + ' [' + str(tab[i]) + ']' # Damos formato y colocamos indices a los semilleros\n",
    "    return cadsemillero\n",
    "\n",
    "def semillerosj2(tab, mitadsemilleros):\n",
    "    mitadsemilleros = 6\n",
    "    cadsemillero = ''\n",
    "    for i in range(2*mitadsemilleros-1, mitadsemilleros-1, -1): # Seleccionamos los semilleros inferiores\n",
    "        cadsemillero += '\\t' + str(i) + ' [' + str(tab[i]) + ']' # Damos formato y colocamos indices a los semilleros\n",
    "    return cadsemillero\n",
    "\n",
    "def mostrar_recoleccion(marcador):\n",
    "    print('------------------------------------------------------------------')\n",
    "    marcadorcad = \"Semillas recogidas:\\tJugador 1: {}\\tJugador 2: {}\\n\"\n",
    "    return marcadorcad.format(marcador[0], marcador[1])"
   ]
  },
  {
   "cell_type": "code",
   "execution_count": 21,
   "metadata": {},
   "outputs": [
    {
     "name": "stdout",
     "output_type": "stream",
     "text": [
      "[4, 4, 4, 4, 4, 4, 4, 4, 4, 4, 4, 4]\n",
      "------------------------------------------------------------------\n",
      "\t0 [4]\t1 [4]\t2 [4]\t3 [4]\t4 [4]\t5 [4]\n",
      "\t11 [4]\t10 [4]\t9 [4]\t8 [4]\t7 [4]\t6 [4]\n",
      "------------------------------------------------------------------\n",
      "Semillas recogidas:\tJugador 1: 0\tJugador 2: 0\n",
      "\n"
     ]
    }
   ],
   "source": [
    "print(base)\n",
    "tablero=creaciontab(base)\n",
    "print(tablero)\n",
    "print(mostrar_recoleccion([0,0]))"
   ]
  },
  {
   "cell_type": "code",
   "execution_count": null,
   "metadata": {},
   "outputs": [],
   "source": []
  }
 ],
 "metadata": {
  "kernelspec": {
   "display_name": "Python 3",
   "language": "python",
   "name": "python3"
  },
  "language_info": {
   "codemirror_mode": {
    "name": "ipython",
    "version": 3
   },
   "file_extension": ".py",
   "mimetype": "text/x-python",
   "name": "python",
   "nbconvert_exporter": "python",
   "pygments_lexer": "ipython3",
   "version": "3.7.4"
  }
 },
 "nbformat": 4,
 "nbformat_minor": 2
}
